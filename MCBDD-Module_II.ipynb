{
 "cells": [
  {
   "cell_type": "markdown",
   "metadata": {},
   "source": [
    "# MCBDD Offline Activities Module II"
   ]
  },
  {
   "cell_type": "code",
   "execution_count": 106,
   "metadata": {},
   "outputs": [],
   "source": [
    "from chembl_webresource_client.new_client import new_client\n",
    "import requests\n",
    "import json\n",
    "import pandas as pd\n",
    "from collections import Counter\n",
    "import numpy as np\n",
    "import matplotlib.pyplot as plt"
   ]
  },
  {
   "cell_type": "markdown",
   "metadata": {},
   "source": [
    "## Step 1"
   ]
  },
  {
   "cell_type": "markdown",
   "metadata": {},
   "source": [
    "Retrieve all approved drugs from the ChEMBL database, sort them by approval year and name (a Python example is at https://github.com/chembl/chembl_webresource_client; documentations of the ChEMBL API can be found at https://www.ebi.ac.uk/chembl/api/data/docs). How many drugs did you get?"
   ]
  },
  {
   "cell_type": "code",
   "execution_count": 4,
   "metadata": {},
   "outputs": [
    {
     "name": "stdout",
     "output_type": "stream",
     "text": [
      "Number of approved drugs: 13721\n"
     ]
    }
   ],
   "source": [
    "# connect to API\n",
    "drugs = new_client.drug\n",
    "\n",
    "print('Number of approved drugs: {}'.format(len(drugs)))"
   ]
  },
  {
   "cell_type": "code",
   "execution_count": 178,
   "metadata": {},
   "outputs": [],
   "source": [
    "def get_INN(drug: list):\n",
    "    \"\"\"returns INN name, use ; as concatenator if more than one value is available\"\"\"\n",
    "    inn = [x['molecule_synonym'] for x in drug['molecule_synonyms'] if x['syn_type'] == 'INN']\n",
    "    res = ';'.join(inn)\n",
    "    return(res)"
   ]
  },
  {
   "cell_type": "code",
   "execution_count": 179,
   "metadata": {},
   "outputs": [],
   "source": [
    "ids = [x['molecule_chembl_id'] for x in drugs]\n",
    "names = [get_INN(x) for x in drugs]\n",
    "years = [x['first_approval'] for x in drugs]"
   ]
  },
  {
   "cell_type": "code",
   "execution_count": 49,
   "metadata": {},
   "outputs": [
    {
     "data": {
      "text/html": [
       "<div>\n",
       "<style scoped>\n",
       "    .dataframe tbody tr th:only-of-type {\n",
       "        vertical-align: middle;\n",
       "    }\n",
       "\n",
       "    .dataframe tbody tr th {\n",
       "        vertical-align: top;\n",
       "    }\n",
       "\n",
       "    .dataframe thead th {\n",
       "        text-align: right;\n",
       "    }\n",
       "</style>\n",
       "<table border=\"1\" class=\"dataframe\">\n",
       "  <thead>\n",
       "    <tr style=\"text-align: right;\">\n",
       "      <th></th>\n",
       "      <th>ID</th>\n",
       "      <th>Name</th>\n",
       "      <th>FirstApproval</th>\n",
       "    </tr>\n",
       "  </thead>\n",
       "  <tbody>\n",
       "    <tr>\n",
       "      <th>263</th>\n",
       "      <td>CHEMBL90</td>\n",
       "      <td></td>\n",
       "      <td>1939.0</td>\n",
       "    </tr>\n",
       "    <tr>\n",
       "      <th>1056</th>\n",
       "      <td>CHEMBL821</td>\n",
       "      <td></td>\n",
       "      <td>1939.0</td>\n",
       "    </tr>\n",
       "    <tr>\n",
       "      <th>2873</th>\n",
       "      <td>CHEMBL190</td>\n",
       "      <td></td>\n",
       "      <td>1940.0</td>\n",
       "    </tr>\n",
       "    <tr>\n",
       "      <th>4535</th>\n",
       "      <td>CHEMBL1201649</td>\n",
       "      <td></td>\n",
       "      <td>1942.0</td>\n",
       "    </tr>\n",
       "    <tr>\n",
       "      <th>4250</th>\n",
       "      <td>CHEMBL1201235</td>\n",
       "      <td></td>\n",
       "      <td>1943.0</td>\n",
       "    </tr>\n",
       "    <tr>\n",
       "      <th>...</th>\n",
       "      <td>...</td>\n",
       "      <td>...</td>\n",
       "      <td>...</td>\n",
       "    </tr>\n",
       "    <tr>\n",
       "      <th>2444</th>\n",
       "      <td>CHEMBL167779</td>\n",
       "      <td>Zuclomifene</td>\n",
       "      <td>NaN</td>\n",
       "    </tr>\n",
       "    <tr>\n",
       "      <th>1304</th>\n",
       "      <td>CHEMBL53904</td>\n",
       "      <td>Zuclopenthixol</td>\n",
       "      <td>NaN</td>\n",
       "    </tr>\n",
       "    <tr>\n",
       "      <th>12335</th>\n",
       "      <td>CHEMBL4105630</td>\n",
       "      <td>Zuranolone</td>\n",
       "      <td>NaN</td>\n",
       "    </tr>\n",
       "    <tr>\n",
       "      <th>12780</th>\n",
       "      <td>CHEMBL4297637</td>\n",
       "      <td>Zuretinol acetate</td>\n",
       "      <td>NaN</td>\n",
       "    </tr>\n",
       "    <tr>\n",
       "      <th>12115</th>\n",
       "      <td>CHEMBL3989838</td>\n",
       "      <td>Zylofuramine</td>\n",
       "      <td>NaN</td>\n",
       "    </tr>\n",
       "  </tbody>\n",
       "</table>\n",
       "<p>13721 rows × 3 columns</p>\n",
       "</div>"
      ],
      "text/plain": [
       "                  ID               Name  FirstApproval\n",
       "263         CHEMBL90                            1939.0\n",
       "1056       CHEMBL821                            1939.0\n",
       "2873       CHEMBL190                            1940.0\n",
       "4535   CHEMBL1201649                            1942.0\n",
       "4250   CHEMBL1201235                            1943.0\n",
       "...              ...                ...            ...\n",
       "2444    CHEMBL167779        Zuclomifene            NaN\n",
       "1304     CHEMBL53904     Zuclopenthixol            NaN\n",
       "12335  CHEMBL4105630         Zuranolone            NaN\n",
       "12780  CHEMBL4297637  Zuretinol acetate            NaN\n",
       "12115  CHEMBL3989838       Zylofuramine            NaN\n",
       "\n",
       "[13721 rows x 3 columns]"
      ]
     },
     "execution_count": 49,
     "metadata": {},
     "output_type": "execute_result"
    }
   ],
   "source": [
    "# make dataframe with IDs, INN names, year of first approval\n",
    "drugList = pd.DataFrame({'ID':ids, 'Name':names, 'FirstApproval':years})\n",
    "drugList.sort_values(by=['Name', 'FirstApproval'], axis=0, inplace=True)\n",
    "\n",
    "drugList"
   ]
  },
  {
   "cell_type": "markdown",
   "metadata": {},
   "source": [
    "## Step 2\n",
    "For each approved drug *since 2011* that you identified in step (1), retrieve a list of UniProt accession numbers, namely protein targets associated with the drug. On average, how many protein targets are associated with each compound? Report the median value here."
   ]
  },
  {
   "cell_type": "code",
   "execution_count": 50,
   "metadata": {},
   "outputs": [
    {
     "data": {
      "text/html": [
       "<div>\n",
       "<style scoped>\n",
       "    .dataframe tbody tr th:only-of-type {\n",
       "        vertical-align: middle;\n",
       "    }\n",
       "\n",
       "    .dataframe tbody tr th {\n",
       "        vertical-align: top;\n",
       "    }\n",
       "\n",
       "    .dataframe thead th {\n",
       "        text-align: right;\n",
       "    }\n",
       "</style>\n",
       "<table border=\"1\" class=\"dataframe\">\n",
       "  <thead>\n",
       "    <tr style=\"text-align: right;\">\n",
       "      <th></th>\n",
       "      <th>ID</th>\n",
       "      <th>Name</th>\n",
       "      <th>FirstApproval</th>\n",
       "    </tr>\n",
       "  </thead>\n",
       "  <tbody>\n",
       "    <tr>\n",
       "      <th>3164</th>\n",
       "      <td>CHEMBL271227</td>\n",
       "      <td></td>\n",
       "      <td>2011.0</td>\n",
       "    </tr>\n",
       "    <tr>\n",
       "      <th>5208</th>\n",
       "      <td>CHEMBL1628502</td>\n",
       "      <td>Gabapentin enacarbil</td>\n",
       "      <td>2011.0</td>\n",
       "    </tr>\n",
       "    <tr>\n",
       "      <th>10676</th>\n",
       "      <td>CHEMBL2218860</td>\n",
       "      <td>Gadobutrol</td>\n",
       "      <td>2011.0</td>\n",
       "    </tr>\n",
       "    <tr>\n",
       "      <th>5465</th>\n",
       "      <td>CHEMBL1742994</td>\n",
       "      <td>Brentuximab vedotin</td>\n",
       "      <td>2011.0</td>\n",
       "    </tr>\n",
       "    <tr>\n",
       "      <th>2573</th>\n",
       "      <td>CHEMBL439849</td>\n",
       "      <td>Vilazodone</td>\n",
       "      <td>2011.0</td>\n",
       "    </tr>\n",
       "    <tr>\n",
       "      <th>...</th>\n",
       "      <td>...</td>\n",
       "      <td>...</td>\n",
       "      <td>...</td>\n",
       "    </tr>\n",
       "    <tr>\n",
       "      <th>11824</th>\n",
       "      <td>CHEMBL3833307</td>\n",
       "      <td>Satralizumab</td>\n",
       "      <td>2020.0</td>\n",
       "    </tr>\n",
       "    <tr>\n",
       "      <th>13282</th>\n",
       "      <td>CHEMBL4298187</td>\n",
       "      <td>Ferric derisomaltose</td>\n",
       "      <td>2020.0</td>\n",
       "    </tr>\n",
       "    <tr>\n",
       "      <th>10667</th>\n",
       "      <td>CHEMBL2205807</td>\n",
       "      <td>Abametapir</td>\n",
       "      <td>2020.0</td>\n",
       "    </tr>\n",
       "    <tr>\n",
       "      <th>7071</th>\n",
       "      <td>CHEMBL2105248</td>\n",
       "      <td></td>\n",
       "      <td>2020.0</td>\n",
       "    </tr>\n",
       "    <tr>\n",
       "      <th>12170</th>\n",
       "      <td>CHEMBL3989949</td>\n",
       "      <td>Cenobamate</td>\n",
       "      <td>2020.0</td>\n",
       "    </tr>\n",
       "  </tbody>\n",
       "</table>\n",
       "<p>421 rows × 3 columns</p>\n",
       "</div>"
      ],
      "text/plain": [
       "                  ID                  Name  FirstApproval\n",
       "3164    CHEMBL271227                               2011.0\n",
       "5208   CHEMBL1628502  Gabapentin enacarbil         2011.0\n",
       "10676  CHEMBL2218860            Gadobutrol         2011.0\n",
       "5465   CHEMBL1742994   Brentuximab vedotin         2011.0\n",
       "2573    CHEMBL439849            Vilazodone         2011.0\n",
       "...              ...                   ...            ...\n",
       "11824  CHEMBL3833307          Satralizumab         2020.0\n",
       "13282  CHEMBL4298187  Ferric derisomaltose         2020.0\n",
       "10667  CHEMBL2205807            Abametapir         2020.0\n",
       "7071   CHEMBL2105248                               2020.0\n",
       "12170  CHEMBL3989949            Cenobamate         2020.0\n",
       "\n",
       "[421 rows x 3 columns]"
      ]
     },
     "execution_count": 50,
     "metadata": {},
     "output_type": "execute_result"
    }
   ],
   "source": [
    "year = 2011\n",
    "# approvalsYear = drugs.filter(first_approval__gte=year) # alternative to filter the API query directly\n",
    "approvalsYear = drugList.query('FirstApproval >= {}'.format(year)).sort_values(by='FirstApproval', axis=0)\n",
    "\n",
    "approvalsYear"
   ]
  },
  {
   "cell_type": "code",
   "execution_count": 52,
   "metadata": {},
   "outputs": [],
   "source": [
    "# make empty dictionary to store targets for each compound\n",
    "compounds2targets = dict() \n",
    "\n",
    "# set ChEMBL ID as key and assign empty set to this key\n",
    "for compound in approvalsYear.ID:\n",
    "    compounds2targets[compound] = set() \n",
    "    \n",
    "# process activities (queries) in chunks\n",
    "chunk_size = 50\n",
    "\n",
    "keys = list(compounds2targets.keys())\n",
    "\n",
    "for i in range(0, len(keys), chunk_size):\n",
    "    # we jump from compounds to targets through activities:\n",
    "    activities = new_client.activity.filter(molecule_chembl_id__in=keys[i:i + chunk_size]).only(['molecule_chembl_id', 'target_chembl_id'])\n",
    "    # extracting target ChEMBL IDs from activities:\n",
    "    for act in activities:  \n",
    "        compounds2targets[act['molecule_chembl_id']].add(act['target_chembl_id'])\n",
    "\n",
    "\n",
    "# convert ChEMBL ID of targets to UniProt accession number\n",
    "\n",
    "for key, val in compounds2targets.items():\n",
    "    # targets are processed in chunks since number of targets per compound is unkown\n",
    "    lval = list(val)\n",
    "    uniprots = set()\n",
    "    for i in range(0, len(val), chunk_size):\n",
    "        targets = new_client.target.filter(target_chembl_id__in=lval[i:i + chunk_size]).only(['target_components'])\n",
    "        uniprots |= {comp['accession'] for t in targets for comp in t['target_components']}\n",
    "\n",
    "    compounds2targets[key] = uniprots"
   ]
  },
  {
   "cell_type": "code",
   "execution_count": 56,
   "metadata": {},
   "outputs": [
    {
     "data": {
      "text/html": [
       "<div>\n",
       "<style scoped>\n",
       "    .dataframe tbody tr th:only-of-type {\n",
       "        vertical-align: middle;\n",
       "    }\n",
       "\n",
       "    .dataframe tbody tr th {\n",
       "        vertical-align: top;\n",
       "    }\n",
       "\n",
       "    .dataframe thead th {\n",
       "        text-align: right;\n",
       "    }\n",
       "</style>\n",
       "<table border=\"1\" class=\"dataframe\">\n",
       "  <thead>\n",
       "    <tr style=\"text-align: right;\">\n",
       "      <th></th>\n",
       "      <th>ID</th>\n",
       "      <th>UniProt</th>\n",
       "    </tr>\n",
       "  </thead>\n",
       "  <tbody>\n",
       "    <tr>\n",
       "      <th>0</th>\n",
       "      <td>CHEMBL271227</td>\n",
       "      <td>P10275</td>\n",
       "    </tr>\n",
       "    <tr>\n",
       "      <th>1</th>\n",
       "      <td>CHEMBL271227</td>\n",
       "      <td>P05093</td>\n",
       "    </tr>\n",
       "    <tr>\n",
       "      <th>2</th>\n",
       "      <td>CHEMBL271227</td>\n",
       "      <td>P0DTD1</td>\n",
       "    </tr>\n",
       "    <tr>\n",
       "      <th>3</th>\n",
       "      <td>CHEMBL1628502</td>\n",
       "      <td>P0DTD1</td>\n",
       "    </tr>\n",
       "    <tr>\n",
       "      <th>4</th>\n",
       "      <td>CHEMBL2218860</td>\n",
       "      <td>P0DTD1</td>\n",
       "    </tr>\n",
       "    <tr>\n",
       "      <th>...</th>\n",
       "      <td>...</td>\n",
       "      <td>...</td>\n",
       "    </tr>\n",
       "    <tr>\n",
       "      <th>15716</th>\n",
       "      <td>CHEMBL243712</td>\n",
       "      <td>P19328</td>\n",
       "    </tr>\n",
       "    <tr>\n",
       "      <th>15717</th>\n",
       "      <td>CHEMBL2205807</td>\n",
       "      <td>P32246</td>\n",
       "    </tr>\n",
       "    <tr>\n",
       "      <th>15718</th>\n",
       "      <td>CHEMBL2205807</td>\n",
       "      <td>P51685</td>\n",
       "    </tr>\n",
       "    <tr>\n",
       "      <th>15719</th>\n",
       "      <td>CHEMBL2205807</td>\n",
       "      <td>P0DTD1</td>\n",
       "    </tr>\n",
       "    <tr>\n",
       "      <th>15720</th>\n",
       "      <td>CHEMBL2205807</td>\n",
       "      <td>P51681</td>\n",
       "    </tr>\n",
       "  </tbody>\n",
       "</table>\n",
       "<p>15721 rows × 2 columns</p>\n",
       "</div>"
      ],
      "text/plain": [
       "                  ID UniProt\n",
       "0       CHEMBL271227  P10275\n",
       "1       CHEMBL271227  P05093\n",
       "2       CHEMBL271227  P0DTD1\n",
       "3      CHEMBL1628502  P0DTD1\n",
       "4      CHEMBL2218860  P0DTD1\n",
       "...              ...     ...\n",
       "15716   CHEMBL243712  P19328\n",
       "15717  CHEMBL2205807  P32246\n",
       "15718  CHEMBL2205807  P51685\n",
       "15719  CHEMBL2205807  P0DTD1\n",
       "15720  CHEMBL2205807  P51681\n",
       "\n",
       "[15721 rows x 2 columns]"
      ]
     },
     "execution_count": 56,
     "metadata": {},
     "output_type": "execute_result"
    }
   ],
   "source": [
    "compounds2targets_df = pd.DataFrame([(i, uniprot) for i, j in compounds2targets.items() for uniprot in j], columns=['ID','UniProt'])\n",
    "\n",
    "compounds2targets_df"
   ]
  },
  {
   "cell_type": "code",
   "execution_count": 57,
   "metadata": {},
   "outputs": [],
   "source": [
    "# save to file since obtaining the data is very time-consuming\n",
    "# so it can be loaded directly from file instead of api if kernel is restarted\n",
    "\n",
    "compounds2targets_df.to_csv('20210701-ChEMBL-drugs-since-2011-UniProt.tsv.gz', sep='\\t')"
   ]
  },
  {
   "cell_type": "code",
   "execution_count": 73,
   "metadata": {},
   "outputs": [
    {
     "name": "stdout",
     "output_type": "stream",
     "text": [
      "Median number of protein targets associated with each compound 7.0\n"
     ]
    }
   ],
   "source": [
    "# median number of targets associated with each compound\n",
    "targetsNo = dict()\n",
    "for compound in compounds2targets_df.ID:\n",
    "    if compound not in targetsNo.keys():\n",
    "        targetsNo[compound] = len(compounds2targets[compound])\n",
    "\n",
    "medianTargets = np.median(list(targetsNo.values()))\n",
    "\n",
    "print('Median number of protein targets associated with each compound {}'.format(medianTargets))"
   ]
  },
  {
   "cell_type": "markdown",
   "metadata": {},
   "source": [
    "## Step 3\n",
    "for each protein with a UniProt accession number that you identified in step (2), retrieve UniProt keywords associated with it. You can use the UniProt API, documented at https://www.ebi.ac.uk/proteins/api/doc/#!/proteins/search. Python (https://pypi.org/project/uniprot_tools/) and R (https://github.com/lgatto/UniProt.REST) clients are also available. Which keyword(s) is associated with most drugs approved since 2011?"
   ]
  },
  {
   "cell_type": "code",
   "execution_count": 164,
   "metadata": {},
   "outputs": [],
   "source": [
    "def get_keywords(protein: list):\n",
    "    \"\"\"process list removing/avoiding KeyErrors from None types\"\"\"\n",
    "    try:\n",
    "        res = [list(k.values())[0] for k in protein['keywords']]\n",
    "        if res == None:\n",
    "            res = []\n",
    "    except KeyError:\n",
    "        res = []\n",
    "    return(res)"
   ]
  },
  {
   "cell_type": "code",
   "execution_count": 165,
   "metadata": {},
   "outputs": [],
   "source": [
    "# use set to remove duplicates\n",
    "uniprots = list(set(compounds2targets_df.UniProt))\n",
    "\n",
    "# base URL\n",
    "requestURL = 'https://www.ebi.ac.uk/proteins/api/proteins?offset=0&size=100&accession='\n",
    "\n",
    "# query will be processed in chunks of 100\n",
    "# there seems to be a problem with processing queries larger than ~110\n",
    "\n",
    "# build query by joining list of UniProt numbers to string \n",
    "chunk_size = 100\n",
    "keywords = []\n",
    "\n",
    "for i in range(0, len(uniprots), chunk_size):\n",
    "    query = ','.join(uniprots[i:i + chunk_size])\n",
    "    # connect to API\n",
    "    url = requestURL + query\n",
    "    r = requests.get(url, headers={'Accept': 'application/json'})\n",
    "    for jlist in r.json():\n",
    "        keywords.extend(get_keywords(jlist))\n"
   ]
  },
  {
   "cell_type": "code",
   "execution_count": 176,
   "metadata": {},
   "outputs": [
    {
     "name": "stdout",
     "output_type": "stream",
     "text": [
      "Counter({'Reference proteome': 1344, 'Phosphoprotein': 882, '3D-structure': 872, 'Membrane': 778, 'Alternative splicing': 742, 'Nucleotide-binding': 599, 'Transferase': 555, 'ATP-binding': 548, 'Cytoplasm': 536, 'Cell membrane': 532, 'Transmembrane': 528, 'Transmembrane helix': 527, 'Glycoprotein': 525, 'Kinase': 463, 'Metal-binding': 425, 'Disulfide bond': 409, 'Nucleus': 408, 'Disease variant': 350, 'Serine/threonine-protein kinase': 337, 'Receptor': 328, 'Signal': 311, 'Direct protein sequencing': 299, 'Ubl conjugation': 299, 'Acetylation': 295, 'Repeat': 251, 'Hydrolase': 228, 'Transport': 206, 'Magnesium': 191, 'Lipoprotein': 169, 'Zinc': 162, 'Transducer': 159, 'G-protein coupled receptor': 157, 'Cell junction': 155, 'Ion transport': 151, 'Isopeptide bond': 145, 'Transcription': 142, 'Transcription regulation': 142, 'Cell projection': 127, 'Synapse': 125, 'Palmitate': 125, 'Endoplasmic reticulum': 123, 'Tyrosine-protein kinase': 122, 'Cytoskeleton': 120, 'Ion channel': 109, 'Cell cycle': 109, 'Apoptosis': 106, 'Oxidoreductase': 102, 'Methylation': 94, 'Mitochondrion': 92, 'Postsynaptic cell membrane': 90, 'Host-virus interaction': 90, 'DNA-binding': 80, 'Zinc-finger': 79, 'Lipid metabolism': 75, 'Secreted': 69, 'Coiled coil': 69, 'Iron': 66, 'Cytoplasmic vesicle': 65, 'Proto-oncogene': 64, 'Calcium': 64, 'Ligand-gated ion channel': 62, 'Chloride': 61, 'Chloride channel': 59, 'Protease': 59, 'Immunity': 56, 'Developmental protein': 54, 'Cell division': 53, 'Endosome': 53, 'Microsome': 50, 'Mental retardation': 49, 'Activator': 48, 'Heme': 48, 'DNA damage': 47, 'Golgi apparatus': 47, 'Chromosomal rearrangement': 46, 'Glycosyltransferase': 45, 'Glycosidase': 45, 'Monooxygenase': 45, 'SH2 domain': 44, 'Differentiation': 44, 'Chromatin regulator': 40, 'GTP-binding': 39, 'Neurodegeneration': 39, 'Lysosome': 38, 'Fatty acid metabolism': 37, 'Sodium': 36, 'Biological rhythms': 36, 'Innate immunity': 36, 'Mitosis': 35, 'Lipid-binding': 35, 'Cell adhesion': 34, 'Zymogen': 34, 'Repressor': 34, 'Calmodulin-binding': 34, 'Stress response': 33, 'DNA repair': 33, 'Serine protease': 33, 'Epilepsy': 33, 'Neurogenesis': 32, 'NAD': 30, 'Immunoglobulin domain': 30, 'Chromosome': 30, 'SH3 domain': 29, 'Manganese': 28, 'Myristate': 27, 'Microtubule': 27, 'ADP-ribosylation': 27, 'Angiogenesis': 26, 'Steroid metabolism': 26, 'Lyase': 26, 'NADP': 26, 'RNA-binding': 25, 'Wnt signaling pathway': 25, 'Mitochondrion inner membrane': 25, 'Transit peptide': 25, 'Sodium transport': 23, 'Symport': 23, 'Flavoprotein': 23, 'Inflammatory response': 22, 'cAMP': 22, 'Deafness': 22, 'Adaptive immunity': 22, 'Carbohydrate metabolism': 22, 'Voltage-gated channel': 21, 'Signal-anchor': 21, 'Cleavage on pair of basic residues': 21, 'Lipid biosynthesis': 21, 'Dwarfism': 21, 'Tumor suppressor': 19, 'Alternative initiation': 19, 'Prenylation': 19, 'S-nitrosylation': 18, 'Nucleotidyltransferase': 18, 'Allosteric enzyme': 18, 'Plasmid': 18, 'cGMP': 18, 'Helicase': 18, 'Mitochondrion outer membrane': 18, 'Thiol protease': 17, 'Host membrane': 17, 'Virion': 17, 'FAD': 17, 'Translocase': 17, 'Alternative promoter usage': 17, 'Autophagy': 16, 'Multifunctional enzyme': 16, 'Chemotaxis': 16, 'Antibiotic resistance': 15, 'Nuclease': 14, 'Diabetes mellitus': 14, 'Sterol metabolism': 14, 'Translation regulation': 14, 'Sensory transduction': 14, 'mRNA processing': 14, 'Cyclin': 13, 'Potassium': 13, 'Host cell membrane': 13, 'ATP synthesis': 13, 'Hydrogen ion transport': 13, 'Steroid-binding': 13, 'Endonuclease': 12, 'Dioxygenase': 12, 'Cardiomyopathy': 12, 'Lipid degradation': 12, 'Glycogen metabolism': 12, 'Vision': 12, 'mRNA splicing': 12, 'ANK repeat': 12, 'Actin-binding': 12, 'Potassium channel': 11, 'Potassium transport': 11, 'Endocytosis': 11, 'Sulfation': 11, 'Behavior': 11, 'Neuropathy': 11, 'Neurotransmitter transport': 11, 'Fatty acid biosynthesis': 11, 'Blood coagulation': 11, 'Hemostasis': 11, 'Virus entry into host cell': 11, 'Protein biosynthesis': 11, 'Isomerase': 10, 'Steroid biosynthesis': 10, 'EGF-like domain': 10, 'Peroxisome': 10, 'Hydroxylation': 10, 'Host cell receptor for virus entry': 10, 'Chaperone': 10, 'Ligase': 10, 'Neurotransmitter degradation': 9, 'Autocatalytic cleavage': 9, 'Cholesterol metabolism': 9, 'Obesity': 9, 'DNA replication': 9, 'Sugar transport': 9, 'Leucine-rich repeat': 9, 'Serine esterase': 8, 'Sodium channel': 8, 'Glycogen storage disease': 8, 'Ectodermal dysplasia': 8, 'Nitration': 8, 'SH3-binding': 8, 'Cilium biogenesis/degradation': 8, 'Lipid droplet': 8, 'Host cytoplasm': 8, 'Methyltransferase': 8, 'Non-syndromic deafness': 8, 'Chromosome partition': 8, 'Cataract': 8, 'Protein transport': 8, 'FMN': 8, 'Retinitis pigmentosa': 8, 'Centromere': 8, 'Ubl conjugation pathway': 7, 'Primary mitochondrial disease': 7, 'DNA recombination': 7, 'CF(1)': 7, 'Autism spectrum disorder': 7, 'Meiosis': 7, 'Amyotrophic lateral sclerosis': 7, 'Capsid protein': 7, 'Host endoplasmic reticulum': 7, 'Host nucleus': 7, 'GPI-anchor': 7, 'S-adenosyl-L-methionine': 7, 'cGMP-binding': 7, 'Spermatogenesis': 7, 'Exocytosis': 7, 'SCID': 7, 'Ribosome biogenesis': 7, 'CF(0)': 7, 'Aminoacyl-tRNA synthetase': 7, 'cAMP-binding': 6, 'Craniosynostosis': 6, 'Cilium': 6, 'DNA integration': 6, 'Calcium channel': 6, 'Calcium transport': 6, 'Acyltransferase': 6, 'Fusion of virus membrane with host endosomal membrane': 6, 'Fusion of virus membrane with host membrane': 6, 'Inhibition of host innate immune response by virus': 6, 'Inhibition of host interferon signaling pathway by virus': 6, 'RNA-directed RNA polymerase': 6, 'Viral attachment to host cell': 6, 'Viral immunoevasion': 6, 'Viral penetration into host cytoplasm': 6, 'Viral RNA replication': 6, 'Gamma-carboxyglutamic acid': 6, 'Pharmaceutical': 6, 'Steroidogenesis': 6, 'Charcot-Marie-Tooth disease': 6, 'Parkinsonism': 6, 'Glucose metabolism': 6, 'Kinetochore': 6, 'Copper': 5, 'Exonuclease': 5, 'Motor protein': 5, 'Sterol biosynthesis': 5, 'Activation of host autophagy by virus': 5, 'Inhibition of host RLR pathway by virus': 5, 'Ribonucleoprotein': 5, 'Metalloprotease': 5, 'Ichthyosis': 5, 'Catecholamine metabolism': 5, 'Protein phosphatase': 5, 'Phagocytosis': 5, 'RNA-directed DNA polymerase': 5, 'Pyrimidine biosynthesis': 5, 'Antiviral defense': 5, 'Alzheimer disease': 5, 'Aortic aneurysm': 5, 'Heparin-binding': 4, 'Prostaglandin metabolism': 4, 'Antiport': 4, 'Long QT syndrome': 4, 'Cholesterol biosynthesis': 4, 'Glycolysis': 4, 'Sarcoplasmic reticulum': 4, 'Autism': 4, 'Aminopeptidase': 4, 'tRNA processing': 4, 'Lipid transport': 4, 'Interferon antiviral system evasion': 4, 'Modulation of host cell cycle by virus': 4, 'Oncogene': 4, 'Viral nucleoprotein': 4, 'Kringle': 4, 'Leukodystrophy': 4, 'Synaptosome': 4, 'Muscle protein': 4, 'Sphingolipid metabolism': 4, 'Coated pit': 4, 'DNA-directed DNA polymerase': 4, 'Cushing syndrome': 4, 'mRNA transport': 4, 'Pseudohermaphroditism': 4, 'Necrosis': 4, 'Periplasm': 4, 'Myosin': 4, 'Bromodomain': 4, 'Triplet repeat expansion': 4, 'Integrin': 4, 'Vitamin C': 4, 'WD repeat': 4, 'CBS domain': 4, 'Iron-sulfur': 4, 'Dystonia': 4, 'RNA editing': 4, 'Glycogen biosynthesis': 4, 'Hereditary spastic paraplegia': 4, 'Prostaglandin biosynthesis': 3, 'Flagellum': 3, 'Lactation': 3, 'Brugada syndrome': 3, 'Asthma': 3, 'Clathrin-mediated endocytosis of virus by host': 3, 'G1/S host cell cycle checkpoint dysregulation by virus': 3, 'Host lipid droplet': 3, 'Host mitochondrion': 3, 'Inhibition of host MAVS by virus': 3, 'Inhibition of host STAT1 by virus': 3, 'Inhibition of host TRAFs by virus': 3, 'Viral envelope protein': 3, 'Viral ion channel': 3, 'Virus endocytosis by host': 3, 'Nucleotide metabolism': 3, 'Plasminogen activation': 3, 'Schizophrenia': 3, 'Hearing': 3, 'DNA synthesis': 3, 'Mutator protein': 3, 'Schiff base': 3, 'Digestion': 3, 'Electron transport': 3, 'Spinocerebellar ataxia': 3, 'Redox-active center': 3, 'Hereditary hemolytic anemia': 3, 'Luminescence': 3, 'Photoprotein': 3, 'Tricarboxylic acid cycle': 3, 'Unfolded protein response': 3, 'Thrombophilia': 3, 'Extracellular matrix': 3, 'Glycation': 3, 'Growth regulation': 3, 'Glaucoma': 3, 'Inflammasome': 3, 'TPR repeat': 3, 'Parkinson disease': 3, '2Fe-2S': 3, 'Amyloid': 3, 'Amyloidosis': 3, 'Virulence': 3, 'Oxidation': 3, 'Carboxypeptidase': 3, 'Spliceosome': 3, 'Signal transduction inhibitor': 3, 'Congenital stationary night blindness': 3, 'Aspartyl protease': 3, 'Eukaryotic host gene expression shutoff by virus': 3, 'Host gene expression shutoff by virus': 3, 'Topoisomerase': 2, 'Growth factor': 2, 'Lacrimo-auriculo-dento-digital syndrome': 2, 'Peroxidase': 2, 'Atrial fibrillation': 2, 'Short QT syndrome': 2, 'Mitochondrion nucleoid': 2, 'rRNA processing': 2, 'Myogenesis': 2, 'Fibrinolysis': 2, 'Leukotriene biosynthesis': 2, 'Tight junction': 2, 'Nuclear pore complex': 2, 'Telomere': 2, 'Translocation': 2, 'Li-Fraumeni syndrome': 2, 'Initiation factor': 2, 'Cell shape': 2, 'Guanine-nucleotide releasing factor': 2, 'Proteomics identification': 2, 'Hormone': 2, 'Thyroid hormone': 2, 'Glycosome': 2, 'One-carbon metabolism': 2, 'Phospholipid metabolism': 2, 'Homeobox': 2, 'Decarboxylase': 2, 'Glyoxylate bypass': 2, 'Primary microcephaly': 2, 'Viral penetration into host nucleus': 2, 'Neurotransmitter biosynthesis': 2, 'Ciliopathy': 2, 'Collagen degradation': 2, 'Pyrrolidone carboxylic acid': 2, 'Holoprosencephaly': 2, 'Cone-rod dystrophy': 2, 'Protein synthesis inhibitor': 2, 'Growth arrest': 2, 'tRNA-binding': 2, 'Respiratory chain': 2, 'Gluconeogenesis': 2, 'GTPase activation': 2, 'Xeroderma pigmentosum': 2, 'Intron homing': 2, 'Protein splicing': 2, 'Lissencephaly': 2, 'Heme biosynthesis': 2, 'Porphyrin biosynthesis': 2, 'Congenital adrenal hyperplasia': 2, 'Purine biosynthesis': 2, 'Protease inhibitor': 2, 'Serine protease inhibitor': 2, 'Microphthalmia': 2, 'LIM domain': 2, 'Intrahepatic cholestasis': 2, 'AIDS': 2, 'Viral genome integration': 2, 'Detoxification': 2, 'Sexual differentiation': 2, 'Purine salvage': 2, 'Eukaryotic host translation shutoff by virus': 2, 'Host endosome': 2, 'Host mRNA suppression by virus': 2, 'Ribosomal frameshifting': 2, 'Pyridoxal phosphate': 2, 'Progressive external ophthalmoplegia': 1, 'Leber congenital amaurosis': 1, 'Pregnancy': 1, 'Biomineralization': 1, 'Metachromatic leukodystrophy': 1, 'Palmoplantar keratoderma': 1, 'Lithium': 1, 'Kelch repeat': 1, 'Congenital disorder of glycosylation': 1, 'Hypotrichosis': 1, 'Cobalt': 1, 'Congenital myasthenic syndrome': 1, 'Hirschsprung disease': 1, 'Glutaricaciduria': 1, 'Ubiquinone biosynthesis': 1, 'Primary hypomagnesemia': 1, 'B-cell activation': 1, 'Selenocysteine': 1, 'Methotrexate resistance': 1, 'Nemaline myopathy': 1, 'Rotamase': 1, 'Host G2/M cell cycle arrest by virus': 1, 'Tissue remodeling': 1, 'Hypogonadotropic hypogonadism': 1, 'Kallmann syndrome': 1, 'Systemic lupus erythematosus': 1, 'Hereditary nonpolyposis colorectal cancer': 1, 'Phospholipid biosynthesis': 1, 'Transposable element': 1, 'Peters anomaly': 1, 'Antibiotic biosynthesis': 1, 'Ribosomal protein': 1, 'Formylation': 1, '4Fe-4S': 1, 'Cockayne syndrome': 1, 'ER-Golgi transport': 1, 'Primosome': 1, 'Osteopetrosis': 1, 'Gaucher disease': 1, 'Mitogen': 1, 'Malaria': 1, 'Cellulose degradation': 1, 'Polysaccharide degradation': 1, 'Toxin': 1, 'Nonsense-mediated mRNA decay': 1, 'Chondrogenesis': 1, 'GMP biosynthesis': 1, 'Proteasome': 1, 'Williams-Beuren syndrome': 1, 'Mast cell degranulation': 1, 'Neuronal ceroid lipofuscinosis': 1, 'Iron storage': 1, 'Modulation of host chromatin by virus': 1, 'Modulation of host PP1 activity by virus': 1, 'Sialic acid': 1, 'Antibiotic': 1, 'Antimicrobial': 1, 'Olfaction': 1, 'Bile acid catabolism': 1, 'Antioxidant': 1, 'Gangliosidosis': 1, 'Mucopolysaccharidosis': 1, 'Heterotaxy': 1, 'Congenital erythrocytosis': 1, 'Joubert syndrome': 1, 'DNA condensation': 1, 'Notch signaling pathway': 1, 'Proteoglycan': 1, 'SOS response': 1, 'Corneal dystrophy': 1, 'DNA replication inhibitor': 1, 'Acute phase': 1, 'Congenital muscular dystrophy': 1, 'Emery-Dreifuss muscular dystrophy': 1, 'Intermediate filament': 1, 'Limb-girdle muscular dystrophy': 1, 'Blood group antigen': 1, 'Decay of host mRNAs by virus': 1, 'Host Golgi apparatus': 1, 'Inhibition of host IRF3 by virus': 1, 'Inhibition of host ISG15 by virus': 1, 'Inhibition of host NF-kappa-B by virus': 1, 'Inhibition of host TBK1 by virus': 1, 'Inhibition of host TLR pathway by virus': 1, 'Modulation of host ubiquitin pathway by viral deubiquitinase': 1, 'Modulation of host ubiquitin pathway by virus': 1, 'Aromatic hydrocarbons catabolism': 1, 'Congenital hypothyroidism': 1, 'Dejerine-Sottas syndrome': 1, 'Molybdenum': 1, 'Osteogenesis': 1, 'Inhibition of host PKR by virus': 1, 'Inhibition of host pre-mRNA processing by virus': 1, 'Inhibition of host RIG-I by virus': 1, 'Activation of host caspases by virus': 1, 'Modulation of host cell apoptosis by virus': 1, 'Viral release from host cell': 1, 'Virion maturation': 1, 'cGMP biosynthesis': 1, 'Diabetes insipidus': 1, 'Elongation factor': 1})\n"
     ]
    }
   ],
   "source": [
    "# getting keyword frequency with collections.Counter\n",
    "keyword_counter = Counter(keywords)\n",
    "print(keyword_counter)"
   ]
  },
  {
   "cell_type": "code",
   "execution_count": 193,
   "metadata": {},
   "outputs": [
    {
     "data": {
      "image/png": "[encoded data removed]",
      "text/plain": [
       "<Figure size 720x504 with 1 Axes>"
      ]
     },
     "metadata": {
      "needs_background": "light"
     },
     "output_type": "display_data"
    }
   ],
   "source": [
    "# plotting most frequent keywords\n",
    "most_common_keywords = keyword_counter.most_common(20)\n",
    "y = [count for keyword, count in most_common_keywords]\n",
    "x = [keyword for keyword, count in most_common_keywords]\n",
    "\n",
    "plt.rcParams[\"figure.figsize\"] = (10,7)\n",
    "plt.rcParams.update({'font.size': 16})\n",
    "\n",
    "plt.bar(x, y, color='midnightblue')\n",
    "plt.title(\"Most frequent keywords\")\n",
    "plt.ylabel(\"Frequency\")\n",
    "plt.xticks(rotation=90)\n",
    "for i, (tag, count) in enumerate(most_common_keywords):\n",
    "    plt.text(i, count, f' {count} ', rotation=90, size=16,\n",
    "             ha='center', va='top' if i < 10 else 'bottom', color='white' if i < 10 else 'black')\n",
    "plt.xlim(-0.6, len(x)-0.4) \n",
    "plt.tight_layout() \n",
    "plt.show()"
   ]
  },
  {
   "cell_type": "code",
   "execution_count": null,
   "metadata": {},
   "outputs": [],
   "source": []
  }
 ],
 "metadata": {
  "kernelspec": {
   "display_name": "Python 3",
   "language": "python",
   "name": "python3"
  },
  "language_info": {
   "codemirror_mode": {
    "name": "ipython",
    "version": 3
   },
   "file_extension": ".py",
   "mimetype": "text/x-python",
   "name": "python",
   "nbconvert_exporter": "python",
   "pygments_lexer": "ipython3",
   "version": "3.8.5"
  }
 },
 "nbformat": 4,
 "nbformat_minor": 4
}
